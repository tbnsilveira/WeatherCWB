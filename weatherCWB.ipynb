{
 "cells": [
  {
   "cell_type": "markdown",
   "metadata": {},
   "source": [
    "# Weather data analysis\n",
    "\n",
    "In this playground notebook I will explore some data analysis strategies through the weather data of the City of Curitiba, Brazil. \n",
    "\n",
    "## Index\n",
    "* <a href=\"#sec1\">1. Introduction</a>  \n",
    "    * <a href=\"#sec1.1\">1.1 Initial statements</a>\n",
    "    * <a href=\"#sec1.2\">1.2 Loading data</a>"
   ]
  },
  {
   "cell_type": "markdown",
   "metadata": {},
   "source": [
    "### References (it must be moved down to the end of the file)\n",
    "1) https://towardsdatascience.com/basic-time-series-manipulation-with-pandas-4432afee64ea  \n",
    "2) https://jakevdp.github.io/PythonDataScienceHandbook/03.11-working-with-time-series.html  \n",
    "3) https://www.dataquest.io/blog/tutorial-time-series-analysis-with-pandas/"
   ]
  },
  {
   "cell_type": "markdown",
   "metadata": {},
   "source": [
    "<a id='intro'></a>\n",
    "## 1. Introduction"
   ]
  },
  {
   "cell_type": "markdown",
   "metadata": {},
   "source": [
    "<a id='sec1.1'></a>\n",
    "### 1.1. Initial statements"
   ]
  },
  {
   "cell_type": "code",
   "execution_count": 3,
   "metadata": {},
   "outputs": [],
   "source": [
    "# Data analysis packages:\n",
    "import pandas as pd\n",
    "import numpy as np\n",
    "#from datetime import datetime as dt\n",
    "\n",
    "# Visualization packages:\n",
    "import seaborn as sns\n",
    "import matplotlib.pyplot as plt\n",
    "%matplotlib inline"
   ]
  },
  {
   "cell_type": "markdown",
   "metadata": {},
   "source": [
    "<a id='sec1.2'></a>\n",
    "### 1.2. Loading data"
   ]
  },
  {
   "cell_type": "code",
   "execution_count": 59,
   "metadata": {},
   "outputs": [],
   "source": [
    "data = pd.read_csv('Station_83842.csv',sep=';')"
   ]
  },
  {
   "cell_type": "code",
   "execution_count": 60,
   "metadata": {},
   "outputs": [
    {
     "data": {
      "text/html": [
       "<div>\n",
       "<style scoped>\n",
       "    .dataframe tbody tr th:only-of-type {\n",
       "        vertical-align: middle;\n",
       "    }\n",
       "\n",
       "    .dataframe tbody tr th {\n",
       "        vertical-align: top;\n",
       "    }\n",
       "\n",
       "    .dataframe thead th {\n",
       "        text-align: right;\n",
       "    }\n",
       "</style>\n",
       "<table border=\"1\" class=\"dataframe\">\n",
       "  <thead>\n",
       "    <tr style=\"text-align: right;\">\n",
       "      <th></th>\n",
       "      <th>Estacao</th>\n",
       "      <th>Data</th>\n",
       "      <th>Hora</th>\n",
       "      <th>TempBulboSeco</th>\n",
       "      <th>TempBulboUmido</th>\n",
       "      <th>UmidadeRelativa</th>\n",
       "      <th>PressaoAtmEstacao</th>\n",
       "      <th>DirecaoVento</th>\n",
       "      <th>VelocidadeVento</th>\n",
       "      <th>Nebulosidade</th>\n",
       "      <th>Unnamed: 10</th>\n",
       "    </tr>\n",
       "  </thead>\n",
       "  <tbody>\n",
       "    <tr>\n",
       "      <td>0</td>\n",
       "      <td>83842</td>\n",
       "      <td>01/01/2000</td>\n",
       "      <td>0</td>\n",
       "      <td>19.7</td>\n",
       "      <td>19.1</td>\n",
       "      <td>94</td>\n",
       "      <td>905.2</td>\n",
       "      <td>9.0</td>\n",
       "      <td>1.8</td>\n",
       "      <td>0.0</td>\n",
       "      <td>NaN</td>\n",
       "    </tr>\n",
       "    <tr>\n",
       "      <td>1</td>\n",
       "      <td>83842</td>\n",
       "      <td>01/01/2000</td>\n",
       "      <td>1200</td>\n",
       "      <td>19.0</td>\n",
       "      <td>18.3</td>\n",
       "      <td>93</td>\n",
       "      <td>906.3</td>\n",
       "      <td>9.0</td>\n",
       "      <td>2.6</td>\n",
       "      <td>10.0</td>\n",
       "      <td>NaN</td>\n",
       "    </tr>\n",
       "    <tr>\n",
       "      <td>2</td>\n",
       "      <td>83842</td>\n",
       "      <td>01/01/2000</td>\n",
       "      <td>1800</td>\n",
       "      <td>20.3</td>\n",
       "      <td>17.9</td>\n",
       "      <td>77</td>\n",
       "      <td>907.4</td>\n",
       "      <td>14.0</td>\n",
       "      <td>3.3</td>\n",
       "      <td>10.0</td>\n",
       "      <td>NaN</td>\n",
       "    </tr>\n",
       "    <tr>\n",
       "      <td>3</td>\n",
       "      <td>83842</td>\n",
       "      <td>02/01/2000</td>\n",
       "      <td>0</td>\n",
       "      <td>17.2</td>\n",
       "      <td>17.0</td>\n",
       "      <td>97</td>\n",
       "      <td>905.6</td>\n",
       "      <td>14.0</td>\n",
       "      <td>3.5</td>\n",
       "      <td>10.0</td>\n",
       "      <td>NaN</td>\n",
       "    </tr>\n",
       "    <tr>\n",
       "      <td>4</td>\n",
       "      <td>83842</td>\n",
       "      <td>02/01/2000</td>\n",
       "      <td>1200</td>\n",
       "      <td>18.8</td>\n",
       "      <td>17.6</td>\n",
       "      <td>88</td>\n",
       "      <td>907.0</td>\n",
       "      <td>9.0</td>\n",
       "      <td>3.5</td>\n",
       "      <td>8.0</td>\n",
       "      <td>NaN</td>\n",
       "    </tr>\n",
       "  </tbody>\n",
       "</table>\n",
       "</div>"
      ],
      "text/plain": [
       "   Estacao        Data  Hora  TempBulboSeco  TempBulboUmido  UmidadeRelativa  \\\n",
       "0    83842  01/01/2000     0           19.7            19.1               94   \n",
       "1    83842  01/01/2000  1200           19.0            18.3               93   \n",
       "2    83842  01/01/2000  1800           20.3            17.9               77   \n",
       "3    83842  02/01/2000     0           17.2            17.0               97   \n",
       "4    83842  02/01/2000  1200           18.8            17.6               88   \n",
       "\n",
       "   PressaoAtmEstacao  DirecaoVento  VelocidadeVento  Nebulosidade  Unnamed: 10  \n",
       "0              905.2           9.0              1.8           0.0          NaN  \n",
       "1              906.3           9.0              2.6          10.0          NaN  \n",
       "2              907.4          14.0              3.3          10.0          NaN  \n",
       "3              905.6          14.0              3.5          10.0          NaN  \n",
       "4              907.0           9.0              3.5           8.0          NaN  "
      ]
     },
     "execution_count": 60,
     "metadata": {},
     "output_type": "execute_result"
    }
   ],
   "source": [
    "data.head()"
   ]
  },
  {
   "cell_type": "code",
   "execution_count": 61,
   "metadata": {},
   "outputs": [
    {
     "data": {
      "text/plain": [
       "Index(['Estacao', 'Data', 'Hora', 'TempBulboSeco', 'TempBulboUmido',\n",
       "       'UmidadeRelativa', 'PressaoAtmEstacao', 'DirecaoVento',\n",
       "       'VelocidadeVento', 'Nebulosidade', 'Unnamed: 10'],\n",
       "      dtype='object')"
      ]
     },
     "execution_count": 61,
     "metadata": {},
     "output_type": "execute_result"
    }
   ],
   "source": [
    "data.columns"
   ]
  },
  {
   "cell_type": "code",
   "execution_count": 62,
   "metadata": {},
   "outputs": [
    {
     "data": {
      "text/plain": [
       "array([83842])"
      ]
     },
     "execution_count": 62,
     "metadata": {},
     "output_type": "execute_result"
    }
   ],
   "source": [
    "## There're data from only one station:\n",
    "data.Estacao.unique()"
   ]
  },
  {
   "cell_type": "markdown",
   "metadata": {},
   "source": [
    "The first and the last columns are useless, since data come from only one station. The last column is due to a final ';' in the end of each line."
   ]
  },
  {
   "cell_type": "code",
   "execution_count": 63,
   "metadata": {},
   "outputs": [],
   "source": [
    "newColumns = list(data.columns)[1:-1]"
   ]
  },
  {
   "cell_type": "code",
   "execution_count": 64,
   "metadata": {},
   "outputs": [],
   "source": [
    "data = data[newColumns]"
   ]
  },
  {
   "cell_type": "code",
   "execution_count": 65,
   "metadata": {},
   "outputs": [
    {
     "data": {
      "text/html": [
       "<div>\n",
       "<style scoped>\n",
       "    .dataframe tbody tr th:only-of-type {\n",
       "        vertical-align: middle;\n",
       "    }\n",
       "\n",
       "    .dataframe tbody tr th {\n",
       "        vertical-align: top;\n",
       "    }\n",
       "\n",
       "    .dataframe thead th {\n",
       "        text-align: right;\n",
       "    }\n",
       "</style>\n",
       "<table border=\"1\" class=\"dataframe\">\n",
       "  <thead>\n",
       "    <tr style=\"text-align: right;\">\n",
       "      <th></th>\n",
       "      <th>Data</th>\n",
       "      <th>Hora</th>\n",
       "      <th>TempBulboSeco</th>\n",
       "      <th>TempBulboUmido</th>\n",
       "      <th>UmidadeRelativa</th>\n",
       "      <th>PressaoAtmEstacao</th>\n",
       "      <th>DirecaoVento</th>\n",
       "      <th>VelocidadeVento</th>\n",
       "      <th>Nebulosidade</th>\n",
       "    </tr>\n",
       "  </thead>\n",
       "  <tbody>\n",
       "    <tr>\n",
       "      <td>0</td>\n",
       "      <td>01/01/2000</td>\n",
       "      <td>0</td>\n",
       "      <td>19.7</td>\n",
       "      <td>19.1</td>\n",
       "      <td>94</td>\n",
       "      <td>905.2</td>\n",
       "      <td>9.0</td>\n",
       "      <td>1.8</td>\n",
       "      <td>0.0</td>\n",
       "    </tr>\n",
       "    <tr>\n",
       "      <td>1</td>\n",
       "      <td>01/01/2000</td>\n",
       "      <td>1200</td>\n",
       "      <td>19.0</td>\n",
       "      <td>18.3</td>\n",
       "      <td>93</td>\n",
       "      <td>906.3</td>\n",
       "      <td>9.0</td>\n",
       "      <td>2.6</td>\n",
       "      <td>10.0</td>\n",
       "    </tr>\n",
       "    <tr>\n",
       "      <td>2</td>\n",
       "      <td>01/01/2000</td>\n",
       "      <td>1800</td>\n",
       "      <td>20.3</td>\n",
       "      <td>17.9</td>\n",
       "      <td>77</td>\n",
       "      <td>907.4</td>\n",
       "      <td>14.0</td>\n",
       "      <td>3.3</td>\n",
       "      <td>10.0</td>\n",
       "    </tr>\n",
       "    <tr>\n",
       "      <td>3</td>\n",
       "      <td>02/01/2000</td>\n",
       "      <td>0</td>\n",
       "      <td>17.2</td>\n",
       "      <td>17.0</td>\n",
       "      <td>97</td>\n",
       "      <td>905.6</td>\n",
       "      <td>14.0</td>\n",
       "      <td>3.5</td>\n",
       "      <td>10.0</td>\n",
       "    </tr>\n",
       "    <tr>\n",
       "      <td>4</td>\n",
       "      <td>02/01/2000</td>\n",
       "      <td>1200</td>\n",
       "      <td>18.8</td>\n",
       "      <td>17.6</td>\n",
       "      <td>88</td>\n",
       "      <td>907.0</td>\n",
       "      <td>9.0</td>\n",
       "      <td>3.5</td>\n",
       "      <td>8.0</td>\n",
       "    </tr>\n",
       "  </tbody>\n",
       "</table>\n",
       "</div>"
      ],
      "text/plain": [
       "         Data  Hora  TempBulboSeco  TempBulboUmido  UmidadeRelativa  \\\n",
       "0  01/01/2000     0           19.7            19.1               94   \n",
       "1  01/01/2000  1200           19.0            18.3               93   \n",
       "2  01/01/2000  1800           20.3            17.9               77   \n",
       "3  02/01/2000     0           17.2            17.0               97   \n",
       "4  02/01/2000  1200           18.8            17.6               88   \n",
       "\n",
       "   PressaoAtmEstacao  DirecaoVento  VelocidadeVento  Nebulosidade  \n",
       "0              905.2           9.0              1.8           0.0  \n",
       "1              906.3           9.0              2.6          10.0  \n",
       "2              907.4          14.0              3.3          10.0  \n",
       "3              905.6          14.0              3.5          10.0  \n",
       "4              907.0           9.0              3.5           8.0  "
      ]
     },
     "execution_count": 65,
     "metadata": {},
     "output_type": "execute_result"
    }
   ],
   "source": [
    "data.head()"
   ]
  },
  {
   "cell_type": "markdown",
   "metadata": {},
   "source": [
    "### Adjusting the datetime type:"
   ]
  },
  {
   "cell_type": "code",
   "execution_count": 66,
   "metadata": {},
   "outputs": [
    {
     "data": {
      "text/plain": [
       "Data                  object\n",
       "Hora                   int64\n",
       "TempBulboSeco        float64\n",
       "TempBulboUmido       float64\n",
       "UmidadeRelativa        int64\n",
       "PressaoAtmEstacao    float64\n",
       "DirecaoVento         float64\n",
       "VelocidadeVento      float64\n",
       "Nebulosidade         float64\n",
       "dtype: object"
      ]
     },
     "execution_count": 66,
     "metadata": {},
     "output_type": "execute_result"
    }
   ],
   "source": [
    "data.dtypes"
   ]
  },
  {
   "cell_type": "code",
   "execution_count": 67,
   "metadata": {},
   "outputs": [],
   "source": [
    "data['Data'] = data['Data'].astype('datetime64')"
   ]
  },
  {
   "cell_type": "code",
   "execution_count": 68,
   "metadata": {},
   "outputs": [
    {
     "data": {
      "text/plain": [
       "Data                 datetime64[ns]\n",
       "Hora                          int64\n",
       "TempBulboSeco               float64\n",
       "TempBulboUmido              float64\n",
       "UmidadeRelativa               int64\n",
       "PressaoAtmEstacao           float64\n",
       "DirecaoVento                float64\n",
       "VelocidadeVento             float64\n",
       "Nebulosidade                float64\n",
       "dtype: object"
      ]
     },
     "execution_count": 68,
     "metadata": {},
     "output_type": "execute_result"
    }
   ],
   "source": [
    "## Checking the new data type for Date:\n",
    "data.dtypes"
   ]
  },
  {
   "cell_type": "markdown",
   "metadata": {},
   "source": [
    "### Adjusting the hour type:"
   ]
  },
  {
   "cell_type": "code",
   "execution_count": 69,
   "metadata": {},
   "outputs": [
    {
     "data": {
      "text/plain": [
       "array([   0, 1200, 1800])"
      ]
     },
     "execution_count": 69,
     "metadata": {},
     "output_type": "execute_result"
    }
   ],
   "source": [
    "data.Hora.unique()"
   ]
  },
  {
   "cell_type": "markdown",
   "metadata": {},
   "source": [
    "There's only three measurement periods in the dataset: 12am, 12pm and 6pm. Let's convert it to the 24:00 hour format. To make things easier, I'll first divide them by 100, then converting to hour format."
   ]
  },
  {
   "cell_type": "code",
   "execution_count": 70,
   "metadata": {},
   "outputs": [],
   "source": [
    "## Converting the four digits hour data to a two digits one:\n",
    "data['Hora'] = (data['Hora']/100).astype('int')"
   ]
  },
  {
   "cell_type": "code",
   "execution_count": 75,
   "metadata": {},
   "outputs": [],
   "source": [
    "## Converting to time type:\n",
    "data['Hora'] = data['Hora'].astype('timedelta64[h]')"
   ]
  },
  {
   "cell_type": "code",
   "execution_count": 76,
   "metadata": {},
   "outputs": [
    {
     "data": {
      "text/html": [
       "<div>\n",
       "<style scoped>\n",
       "    .dataframe tbody tr th:only-of-type {\n",
       "        vertical-align: middle;\n",
       "    }\n",
       "\n",
       "    .dataframe tbody tr th {\n",
       "        vertical-align: top;\n",
       "    }\n",
       "\n",
       "    .dataframe thead th {\n",
       "        text-align: right;\n",
       "    }\n",
       "</style>\n",
       "<table border=\"1\" class=\"dataframe\">\n",
       "  <thead>\n",
       "    <tr style=\"text-align: right;\">\n",
       "      <th></th>\n",
       "      <th>Data</th>\n",
       "      <th>Hora</th>\n",
       "      <th>TempBulboSeco</th>\n",
       "      <th>TempBulboUmido</th>\n",
       "      <th>UmidadeRelativa</th>\n",
       "      <th>PressaoAtmEstacao</th>\n",
       "      <th>DirecaoVento</th>\n",
       "      <th>VelocidadeVento</th>\n",
       "      <th>Nebulosidade</th>\n",
       "    </tr>\n",
       "  </thead>\n",
       "  <tbody>\n",
       "    <tr>\n",
       "      <td>0</td>\n",
       "      <td>2000-01-01</td>\n",
       "      <td>00:00:00</td>\n",
       "      <td>19.7</td>\n",
       "      <td>19.1</td>\n",
       "      <td>94</td>\n",
       "      <td>905.2</td>\n",
       "      <td>9.0</td>\n",
       "      <td>1.8</td>\n",
       "      <td>0.0</td>\n",
       "    </tr>\n",
       "    <tr>\n",
       "      <td>1</td>\n",
       "      <td>2000-01-01</td>\n",
       "      <td>12:00:00</td>\n",
       "      <td>19.0</td>\n",
       "      <td>18.3</td>\n",
       "      <td>93</td>\n",
       "      <td>906.3</td>\n",
       "      <td>9.0</td>\n",
       "      <td>2.6</td>\n",
       "      <td>10.0</td>\n",
       "    </tr>\n",
       "    <tr>\n",
       "      <td>2</td>\n",
       "      <td>2000-01-01</td>\n",
       "      <td>18:00:00</td>\n",
       "      <td>20.3</td>\n",
       "      <td>17.9</td>\n",
       "      <td>77</td>\n",
       "      <td>907.4</td>\n",
       "      <td>14.0</td>\n",
       "      <td>3.3</td>\n",
       "      <td>10.0</td>\n",
       "    </tr>\n",
       "    <tr>\n",
       "      <td>3</td>\n",
       "      <td>2000-02-01</td>\n",
       "      <td>00:00:00</td>\n",
       "      <td>17.2</td>\n",
       "      <td>17.0</td>\n",
       "      <td>97</td>\n",
       "      <td>905.6</td>\n",
       "      <td>14.0</td>\n",
       "      <td>3.5</td>\n",
       "      <td>10.0</td>\n",
       "    </tr>\n",
       "    <tr>\n",
       "      <td>4</td>\n",
       "      <td>2000-02-01</td>\n",
       "      <td>12:00:00</td>\n",
       "      <td>18.8</td>\n",
       "      <td>17.6</td>\n",
       "      <td>88</td>\n",
       "      <td>907.0</td>\n",
       "      <td>9.0</td>\n",
       "      <td>3.5</td>\n",
       "      <td>8.0</td>\n",
       "    </tr>\n",
       "  </tbody>\n",
       "</table>\n",
       "</div>"
      ],
      "text/plain": [
       "        Data     Hora  TempBulboSeco  TempBulboUmido  UmidadeRelativa  \\\n",
       "0 2000-01-01 00:00:00           19.7            19.1               94   \n",
       "1 2000-01-01 12:00:00           19.0            18.3               93   \n",
       "2 2000-01-01 18:00:00           20.3            17.9               77   \n",
       "3 2000-02-01 00:00:00           17.2            17.0               97   \n",
       "4 2000-02-01 12:00:00           18.8            17.6               88   \n",
       "\n",
       "   PressaoAtmEstacao  DirecaoVento  VelocidadeVento  Nebulosidade  \n",
       "0              905.2           9.0              1.8           0.0  \n",
       "1              906.3           9.0              2.6          10.0  \n",
       "2              907.4          14.0              3.3          10.0  \n",
       "3              905.6          14.0              3.5          10.0  \n",
       "4              907.0           9.0              3.5           8.0  "
      ]
     },
     "execution_count": 76,
     "metadata": {},
     "output_type": "execute_result"
    }
   ],
   "source": [
    "data.head()"
   ]
  },
  {
   "cell_type": "markdown",
   "metadata": {},
   "source": [
    "### Turning it a time-series dataset:"
   ]
  },
  {
   "cell_type": "code",
   "execution_count": 77,
   "metadata": {},
   "outputs": [],
   "source": [
    "## Backing up the dataset:\n",
    "rawData = data.copy()"
   ]
  },
  {
   "cell_type": "code",
   "execution_count": 90,
   "metadata": {},
   "outputs": [],
   "source": [
    "data = rawData.copy()"
   ]
  },
  {
   "cell_type": "code",
   "execution_count": 78,
   "metadata": {},
   "outputs": [],
   "source": [
    "## Changing the index:\n",
    "data = data.set_index('Data')"
   ]
  },
  {
   "cell_type": "code",
   "execution_count": 91,
   "metadata": {},
   "outputs": [
    {
     "data": {
      "text/html": [
       "<div>\n",
       "<style scoped>\n",
       "    .dataframe tbody tr th:only-of-type {\n",
       "        vertical-align: middle;\n",
       "    }\n",
       "\n",
       "    .dataframe tbody tr th {\n",
       "        vertical-align: top;\n",
       "    }\n",
       "\n",
       "    .dataframe thead th {\n",
       "        text-align: right;\n",
       "    }\n",
       "</style>\n",
       "<table border=\"1\" class=\"dataframe\">\n",
       "  <thead>\n",
       "    <tr style=\"text-align: right;\">\n",
       "      <th></th>\n",
       "      <th>Data</th>\n",
       "      <th>Hora</th>\n",
       "      <th>TempBulboSeco</th>\n",
       "      <th>TempBulboUmido</th>\n",
       "      <th>UmidadeRelativa</th>\n",
       "      <th>PressaoAtmEstacao</th>\n",
       "      <th>DirecaoVento</th>\n",
       "      <th>VelocidadeVento</th>\n",
       "      <th>Nebulosidade</th>\n",
       "    </tr>\n",
       "  </thead>\n",
       "  <tbody>\n",
       "    <tr>\n",
       "      <td>0</td>\n",
       "      <td>2000-01-01</td>\n",
       "      <td>00:00:00</td>\n",
       "      <td>19.7</td>\n",
       "      <td>19.1</td>\n",
       "      <td>94</td>\n",
       "      <td>905.2</td>\n",
       "      <td>9.0</td>\n",
       "      <td>1.8</td>\n",
       "      <td>0.0</td>\n",
       "    </tr>\n",
       "    <tr>\n",
       "      <td>1</td>\n",
       "      <td>2000-01-01</td>\n",
       "      <td>12:00:00</td>\n",
       "      <td>19.0</td>\n",
       "      <td>18.3</td>\n",
       "      <td>93</td>\n",
       "      <td>906.3</td>\n",
       "      <td>9.0</td>\n",
       "      <td>2.6</td>\n",
       "      <td>10.0</td>\n",
       "    </tr>\n",
       "    <tr>\n",
       "      <td>2</td>\n",
       "      <td>2000-01-01</td>\n",
       "      <td>18:00:00</td>\n",
       "      <td>20.3</td>\n",
       "      <td>17.9</td>\n",
       "      <td>77</td>\n",
       "      <td>907.4</td>\n",
       "      <td>14.0</td>\n",
       "      <td>3.3</td>\n",
       "      <td>10.0</td>\n",
       "    </tr>\n",
       "    <tr>\n",
       "      <td>3</td>\n",
       "      <td>2000-02-01</td>\n",
       "      <td>00:00:00</td>\n",
       "      <td>17.2</td>\n",
       "      <td>17.0</td>\n",
       "      <td>97</td>\n",
       "      <td>905.6</td>\n",
       "      <td>14.0</td>\n",
       "      <td>3.5</td>\n",
       "      <td>10.0</td>\n",
       "    </tr>\n",
       "    <tr>\n",
       "      <td>4</td>\n",
       "      <td>2000-02-01</td>\n",
       "      <td>12:00:00</td>\n",
       "      <td>18.8</td>\n",
       "      <td>17.6</td>\n",
       "      <td>88</td>\n",
       "      <td>907.0</td>\n",
       "      <td>9.0</td>\n",
       "      <td>3.5</td>\n",
       "      <td>8.0</td>\n",
       "    </tr>\n",
       "    <tr>\n",
       "      <td>...</td>\n",
       "      <td>...</td>\n",
       "      <td>...</td>\n",
       "      <td>...</td>\n",
       "      <td>...</td>\n",
       "      <td>...</td>\n",
       "      <td>...</td>\n",
       "      <td>...</td>\n",
       "      <td>...</td>\n",
       "      <td>...</td>\n",
       "    </tr>\n",
       "    <tr>\n",
       "      <td>21192</td>\n",
       "      <td>2019-12-28</td>\n",
       "      <td>12:00:00</td>\n",
       "      <td>20.8</td>\n",
       "      <td>17.9</td>\n",
       "      <td>75</td>\n",
       "      <td>915.5</td>\n",
       "      <td>NaN</td>\n",
       "      <td>NaN</td>\n",
       "      <td>8.0</td>\n",
       "    </tr>\n",
       "    <tr>\n",
       "      <td>21193</td>\n",
       "      <td>2019-12-29</td>\n",
       "      <td>00:00:00</td>\n",
       "      <td>21.4</td>\n",
       "      <td>19.6</td>\n",
       "      <td>85</td>\n",
       "      <td>913.0</td>\n",
       "      <td>NaN</td>\n",
       "      <td>NaN</td>\n",
       "      <td>9.0</td>\n",
       "    </tr>\n",
       "    <tr>\n",
       "      <td>21194</td>\n",
       "      <td>2019-12-30</td>\n",
       "      <td>12:00:00</td>\n",
       "      <td>21.6</td>\n",
       "      <td>18.1</td>\n",
       "      <td>71</td>\n",
       "      <td>912.3</td>\n",
       "      <td>NaN</td>\n",
       "      <td>NaN</td>\n",
       "      <td>9.0</td>\n",
       "    </tr>\n",
       "    <tr>\n",
       "      <td>21195</td>\n",
       "      <td>2019-12-31</td>\n",
       "      <td>00:00:00</td>\n",
       "      <td>21.8</td>\n",
       "      <td>20.0</td>\n",
       "      <td>85</td>\n",
       "      <td>909.2</td>\n",
       "      <td>NaN</td>\n",
       "      <td>NaN</td>\n",
       "      <td>9.0</td>\n",
       "    </tr>\n",
       "    <tr>\n",
       "      <td>21196</td>\n",
       "      <td>2019-12-31</td>\n",
       "      <td>12:00:00</td>\n",
       "      <td>23.3</td>\n",
       "      <td>19.5</td>\n",
       "      <td>70</td>\n",
       "      <td>910.4</td>\n",
       "      <td>NaN</td>\n",
       "      <td>NaN</td>\n",
       "      <td>9.0</td>\n",
       "    </tr>\n",
       "  </tbody>\n",
       "</table>\n",
       "<p>21197 rows × 9 columns</p>\n",
       "</div>"
      ],
      "text/plain": [
       "            Data     Hora  TempBulboSeco  TempBulboUmido  UmidadeRelativa  \\\n",
       "0     2000-01-01 00:00:00           19.7            19.1               94   \n",
       "1     2000-01-01 12:00:00           19.0            18.3               93   \n",
       "2     2000-01-01 18:00:00           20.3            17.9               77   \n",
       "3     2000-02-01 00:00:00           17.2            17.0               97   \n",
       "4     2000-02-01 12:00:00           18.8            17.6               88   \n",
       "...          ...      ...            ...             ...              ...   \n",
       "21192 2019-12-28 12:00:00           20.8            17.9               75   \n",
       "21193 2019-12-29 00:00:00           21.4            19.6               85   \n",
       "21194 2019-12-30 12:00:00           21.6            18.1               71   \n",
       "21195 2019-12-31 00:00:00           21.8            20.0               85   \n",
       "21196 2019-12-31 12:00:00           23.3            19.5               70   \n",
       "\n",
       "       PressaoAtmEstacao  DirecaoVento  VelocidadeVento  Nebulosidade  \n",
       "0                  905.2           9.0              1.8           0.0  \n",
       "1                  906.3           9.0              2.6          10.0  \n",
       "2                  907.4          14.0              3.3          10.0  \n",
       "3                  905.6          14.0              3.5          10.0  \n",
       "4                  907.0           9.0              3.5           8.0  \n",
       "...                  ...           ...              ...           ...  \n",
       "21192              915.5           NaN              NaN           8.0  \n",
       "21193              913.0           NaN              NaN           9.0  \n",
       "21194              912.3           NaN              NaN           9.0  \n",
       "21195              909.2           NaN              NaN           9.0  \n",
       "21196              910.4           NaN              NaN           9.0  \n",
       "\n",
       "[21197 rows x 9 columns]"
      ]
     },
     "execution_count": 91,
     "metadata": {},
     "output_type": "execute_result"
    }
   ],
   "source": [
    "data"
   ]
  },
  {
   "cell_type": "code",
   "execution_count": 92,
   "metadata": {},
   "outputs": [],
   "source": [
    "data['timestamp'] = data['Data'] + data['Hora']"
   ]
  },
  {
   "cell_type": "code",
   "execution_count": 93,
   "metadata": {},
   "outputs": [
    {
     "data": {
      "text/html": [
       "<div>\n",
       "<style scoped>\n",
       "    .dataframe tbody tr th:only-of-type {\n",
       "        vertical-align: middle;\n",
       "    }\n",
       "\n",
       "    .dataframe tbody tr th {\n",
       "        vertical-align: top;\n",
       "    }\n",
       "\n",
       "    .dataframe thead th {\n",
       "        text-align: right;\n",
       "    }\n",
       "</style>\n",
       "<table border=\"1\" class=\"dataframe\">\n",
       "  <thead>\n",
       "    <tr style=\"text-align: right;\">\n",
       "      <th></th>\n",
       "      <th>Data</th>\n",
       "      <th>Hora</th>\n",
       "      <th>TempBulboSeco</th>\n",
       "      <th>TempBulboUmido</th>\n",
       "      <th>UmidadeRelativa</th>\n",
       "      <th>PressaoAtmEstacao</th>\n",
       "      <th>DirecaoVento</th>\n",
       "      <th>VelocidadeVento</th>\n",
       "      <th>Nebulosidade</th>\n",
       "      <th>timestamp</th>\n",
       "    </tr>\n",
       "  </thead>\n",
       "  <tbody>\n",
       "    <tr>\n",
       "      <td>0</td>\n",
       "      <td>2000-01-01</td>\n",
       "      <td>00:00:00</td>\n",
       "      <td>19.7</td>\n",
       "      <td>19.1</td>\n",
       "      <td>94</td>\n",
       "      <td>905.2</td>\n",
       "      <td>9.0</td>\n",
       "      <td>1.8</td>\n",
       "      <td>0.0</td>\n",
       "      <td>2000-01-01 00:00:00</td>\n",
       "    </tr>\n",
       "    <tr>\n",
       "      <td>1</td>\n",
       "      <td>2000-01-01</td>\n",
       "      <td>12:00:00</td>\n",
       "      <td>19.0</td>\n",
       "      <td>18.3</td>\n",
       "      <td>93</td>\n",
       "      <td>906.3</td>\n",
       "      <td>9.0</td>\n",
       "      <td>2.6</td>\n",
       "      <td>10.0</td>\n",
       "      <td>2000-01-01 12:00:00</td>\n",
       "    </tr>\n",
       "  </tbody>\n",
       "</table>\n",
       "</div>"
      ],
      "text/plain": [
       "        Data     Hora  TempBulboSeco  TempBulboUmido  UmidadeRelativa  \\\n",
       "0 2000-01-01 00:00:00           19.7            19.1               94   \n",
       "1 2000-01-01 12:00:00           19.0            18.3               93   \n",
       "\n",
       "   PressaoAtmEstacao  DirecaoVento  VelocidadeVento  Nebulosidade  \\\n",
       "0              905.2           9.0              1.8           0.0   \n",
       "1              906.3           9.0              2.6          10.0   \n",
       "\n",
       "            timestamp  \n",
       "0 2000-01-01 00:00:00  \n",
       "1 2000-01-01 12:00:00  "
      ]
     },
     "execution_count": 93,
     "metadata": {},
     "output_type": "execute_result"
    }
   ],
   "source": [
    "data.head(2)"
   ]
  },
  {
   "cell_type": "code",
   "execution_count": 94,
   "metadata": {},
   "outputs": [
    {
     "name": "stdout",
     "output_type": "stream",
     "text": [
      "<class 'pandas.core.frame.DataFrame'>\n",
      "RangeIndex: 21197 entries, 0 to 21196\n",
      "Data columns (total 10 columns):\n",
      "Data                 21197 non-null datetime64[ns]\n",
      "Hora                 21197 non-null timedelta64[ns]\n",
      "TempBulboSeco        21190 non-null float64\n",
      "TempBulboUmido       21189 non-null float64\n",
      "UmidadeRelativa      21197 non-null int64\n",
      "PressaoAtmEstacao    20406 non-null float64\n",
      "DirecaoVento         20171 non-null float64\n",
      "VelocidadeVento      20165 non-null float64\n",
      "Nebulosidade         21194 non-null float64\n",
      "timestamp            21197 non-null datetime64[ns]\n",
      "dtypes: datetime64[ns](2), float64(6), int64(1), timedelta64[ns](1)\n",
      "memory usage: 1.6 MB\n"
     ]
    }
   ],
   "source": [
    "data.info()"
   ]
  },
  {
   "cell_type": "code",
   "execution_count": 95,
   "metadata": {},
   "outputs": [],
   "source": [
    "data = data.set_index('timestamp')"
   ]
  },
  {
   "cell_type": "code",
   "execution_count": 96,
   "metadata": {},
   "outputs": [
    {
     "data": {
      "text/html": [
       "<div>\n",
       "<style scoped>\n",
       "    .dataframe tbody tr th:only-of-type {\n",
       "        vertical-align: middle;\n",
       "    }\n",
       "\n",
       "    .dataframe tbody tr th {\n",
       "        vertical-align: top;\n",
       "    }\n",
       "\n",
       "    .dataframe thead th {\n",
       "        text-align: right;\n",
       "    }\n",
       "</style>\n",
       "<table border=\"1\" class=\"dataframe\">\n",
       "  <thead>\n",
       "    <tr style=\"text-align: right;\">\n",
       "      <th></th>\n",
       "      <th>Data</th>\n",
       "      <th>Hora</th>\n",
       "      <th>TempBulboSeco</th>\n",
       "      <th>TempBulboUmido</th>\n",
       "      <th>UmidadeRelativa</th>\n",
       "      <th>PressaoAtmEstacao</th>\n",
       "      <th>DirecaoVento</th>\n",
       "      <th>VelocidadeVento</th>\n",
       "      <th>Nebulosidade</th>\n",
       "    </tr>\n",
       "    <tr>\n",
       "      <th>timestamp</th>\n",
       "      <th></th>\n",
       "      <th></th>\n",
       "      <th></th>\n",
       "      <th></th>\n",
       "      <th></th>\n",
       "      <th></th>\n",
       "      <th></th>\n",
       "      <th></th>\n",
       "      <th></th>\n",
       "    </tr>\n",
       "  </thead>\n",
       "  <tbody>\n",
       "    <tr>\n",
       "      <td>2000-01-01 00:00:00</td>\n",
       "      <td>2000-01-01</td>\n",
       "      <td>00:00:00</td>\n",
       "      <td>19.7</td>\n",
       "      <td>19.1</td>\n",
       "      <td>94</td>\n",
       "      <td>905.2</td>\n",
       "      <td>9.0</td>\n",
       "      <td>1.8</td>\n",
       "      <td>0.0</td>\n",
       "    </tr>\n",
       "    <tr>\n",
       "      <td>2000-01-01 12:00:00</td>\n",
       "      <td>2000-01-01</td>\n",
       "      <td>12:00:00</td>\n",
       "      <td>19.0</td>\n",
       "      <td>18.3</td>\n",
       "      <td>93</td>\n",
       "      <td>906.3</td>\n",
       "      <td>9.0</td>\n",
       "      <td>2.6</td>\n",
       "      <td>10.0</td>\n",
       "    </tr>\n",
       "    <tr>\n",
       "      <td>2000-01-01 18:00:00</td>\n",
       "      <td>2000-01-01</td>\n",
       "      <td>18:00:00</td>\n",
       "      <td>20.3</td>\n",
       "      <td>17.9</td>\n",
       "      <td>77</td>\n",
       "      <td>907.4</td>\n",
       "      <td>14.0</td>\n",
       "      <td>3.3</td>\n",
       "      <td>10.0</td>\n",
       "    </tr>\n",
       "    <tr>\n",
       "      <td>2000-02-01 00:00:00</td>\n",
       "      <td>2000-02-01</td>\n",
       "      <td>00:00:00</td>\n",
       "      <td>17.2</td>\n",
       "      <td>17.0</td>\n",
       "      <td>97</td>\n",
       "      <td>905.6</td>\n",
       "      <td>14.0</td>\n",
       "      <td>3.5</td>\n",
       "      <td>10.0</td>\n",
       "    </tr>\n",
       "    <tr>\n",
       "      <td>2000-02-01 12:00:00</td>\n",
       "      <td>2000-02-01</td>\n",
       "      <td>12:00:00</td>\n",
       "      <td>18.8</td>\n",
       "      <td>17.6</td>\n",
       "      <td>88</td>\n",
       "      <td>907.0</td>\n",
       "      <td>9.0</td>\n",
       "      <td>3.5</td>\n",
       "      <td>8.0</td>\n",
       "    </tr>\n",
       "  </tbody>\n",
       "</table>\n",
       "</div>"
      ],
      "text/plain": [
       "                          Data     Hora  TempBulboSeco  TempBulboUmido  \\\n",
       "timestamp                                                                \n",
       "2000-01-01 00:00:00 2000-01-01 00:00:00           19.7            19.1   \n",
       "2000-01-01 12:00:00 2000-01-01 12:00:00           19.0            18.3   \n",
       "2000-01-01 18:00:00 2000-01-01 18:00:00           20.3            17.9   \n",
       "2000-02-01 00:00:00 2000-02-01 00:00:00           17.2            17.0   \n",
       "2000-02-01 12:00:00 2000-02-01 12:00:00           18.8            17.6   \n",
       "\n",
       "                     UmidadeRelativa  PressaoAtmEstacao  DirecaoVento  \\\n",
       "timestamp                                                               \n",
       "2000-01-01 00:00:00               94              905.2           9.0   \n",
       "2000-01-01 12:00:00               93              906.3           9.0   \n",
       "2000-01-01 18:00:00               77              907.4          14.0   \n",
       "2000-02-01 00:00:00               97              905.6          14.0   \n",
       "2000-02-01 12:00:00               88              907.0           9.0   \n",
       "\n",
       "                     VelocidadeVento  Nebulosidade  \n",
       "timestamp                                           \n",
       "2000-01-01 00:00:00              1.8           0.0  \n",
       "2000-01-01 12:00:00              2.6          10.0  \n",
       "2000-01-01 18:00:00              3.3          10.0  \n",
       "2000-02-01 00:00:00              3.5          10.0  \n",
       "2000-02-01 12:00:00              3.5           8.0  "
      ]
     },
     "execution_count": 96,
     "metadata": {},
     "output_type": "execute_result"
    }
   ],
   "source": [
    "data.head()"
   ]
  },
  {
   "cell_type": "markdown",
   "metadata": {},
   "source": [
    "### Resampling by day:"
   ]
  },
  {
   "cell_type": "code",
   "execution_count": 99,
   "metadata": {},
   "outputs": [
    {
     "data": {
      "text/html": [
       "<div>\n",
       "<style scoped>\n",
       "    .dataframe tbody tr th:only-of-type {\n",
       "        vertical-align: middle;\n",
       "    }\n",
       "\n",
       "    .dataframe tbody tr th {\n",
       "        vertical-align: top;\n",
       "    }\n",
       "\n",
       "    .dataframe thead th {\n",
       "        text-align: right;\n",
       "    }\n",
       "</style>\n",
       "<table border=\"1\" class=\"dataframe\">\n",
       "  <thead>\n",
       "    <tr style=\"text-align: right;\">\n",
       "      <th></th>\n",
       "      <th>Data</th>\n",
       "      <th>Hora</th>\n",
       "      <th>TempBulboSeco</th>\n",
       "      <th>TempBulboUmido</th>\n",
       "      <th>UmidadeRelativa</th>\n",
       "      <th>PressaoAtmEstacao</th>\n",
       "      <th>DirecaoVento</th>\n",
       "      <th>VelocidadeVento</th>\n",
       "      <th>Nebulosidade</th>\n",
       "    </tr>\n",
       "    <tr>\n",
       "      <th>timestamp</th>\n",
       "      <th></th>\n",
       "      <th></th>\n",
       "      <th></th>\n",
       "      <th></th>\n",
       "      <th></th>\n",
       "      <th></th>\n",
       "      <th></th>\n",
       "      <th></th>\n",
       "      <th></th>\n",
       "    </tr>\n",
       "  </thead>\n",
       "  <tbody>\n",
       "    <tr>\n",
       "      <td>2018-01-04 00:00:00</td>\n",
       "      <td>2018-01-04</td>\n",
       "      <td>00:00:00</td>\n",
       "      <td>20.8</td>\n",
       "      <td>19.4</td>\n",
       "      <td>87</td>\n",
       "      <td>909.0</td>\n",
       "      <td>36.0</td>\n",
       "      <td>0.8</td>\n",
       "      <td>10.0</td>\n",
       "    </tr>\n",
       "    <tr>\n",
       "      <td>2018-01-04 12:00:00</td>\n",
       "      <td>2018-01-04</td>\n",
       "      <td>12:00:00</td>\n",
       "      <td>21.5</td>\n",
       "      <td>20.0</td>\n",
       "      <td>87</td>\n",
       "      <td>910.7</td>\n",
       "      <td>27.0</td>\n",
       "      <td>3.6</td>\n",
       "      <td>10.0</td>\n",
       "    </tr>\n",
       "    <tr>\n",
       "      <td>2018-01-04 18:00:00</td>\n",
       "      <td>2018-01-04</td>\n",
       "      <td>18:00:00</td>\n",
       "      <td>24.7</td>\n",
       "      <td>20.2</td>\n",
       "      <td>66</td>\n",
       "      <td>907.9</td>\n",
       "      <td>23.0</td>\n",
       "      <td>4.5</td>\n",
       "      <td>9.0</td>\n",
       "    </tr>\n",
       "    <tr>\n",
       "      <td>2018-01-05 00:00:00</td>\n",
       "      <td>2018-01-05</td>\n",
       "      <td>00:00:00</td>\n",
       "      <td>22.8</td>\n",
       "      <td>17.2</td>\n",
       "      <td>56</td>\n",
       "      <td>914.4</td>\n",
       "      <td>23.0</td>\n",
       "      <td>1.1</td>\n",
       "      <td>0.0</td>\n",
       "    </tr>\n",
       "    <tr>\n",
       "      <td>2018-01-05 12:00:00</td>\n",
       "      <td>2018-01-05</td>\n",
       "      <td>12:00:00</td>\n",
       "      <td>19.9</td>\n",
       "      <td>18.6</td>\n",
       "      <td>88</td>\n",
       "      <td>916.4</td>\n",
       "      <td>5.0</td>\n",
       "      <td>1.6</td>\n",
       "      <td>9.0</td>\n",
       "    </tr>\n",
       "    <tr>\n",
       "      <td>2018-01-05 18:00:00</td>\n",
       "      <td>2018-01-05</td>\n",
       "      <td>18:00:00</td>\n",
       "      <td>27.2</td>\n",
       "      <td>19.8</td>\n",
       "      <td>50</td>\n",
       "      <td>916.2</td>\n",
       "      <td>27.0</td>\n",
       "      <td>3.3</td>\n",
       "      <td>9.0</td>\n",
       "    </tr>\n",
       "    <tr>\n",
       "      <td>2018-01-06 00:00:00</td>\n",
       "      <td>2018-01-06</td>\n",
       "      <td>00:00:00</td>\n",
       "      <td>15.6</td>\n",
       "      <td>12.9</td>\n",
       "      <td>73</td>\n",
       "      <td>912.6</td>\n",
       "      <td>32.0</td>\n",
       "      <td>1.0</td>\n",
       "      <td>0.0</td>\n",
       "    </tr>\n",
       "  </tbody>\n",
       "</table>\n",
       "</div>"
      ],
      "text/plain": [
       "                          Data     Hora  TempBulboSeco  TempBulboUmido  \\\n",
       "timestamp                                                                \n",
       "2018-01-04 00:00:00 2018-01-04 00:00:00           20.8            19.4   \n",
       "2018-01-04 12:00:00 2018-01-04 12:00:00           21.5            20.0   \n",
       "2018-01-04 18:00:00 2018-01-04 18:00:00           24.7            20.2   \n",
       "2018-01-05 00:00:00 2018-01-05 00:00:00           22.8            17.2   \n",
       "2018-01-05 12:00:00 2018-01-05 12:00:00           19.9            18.6   \n",
       "2018-01-05 18:00:00 2018-01-05 18:00:00           27.2            19.8   \n",
       "2018-01-06 00:00:00 2018-01-06 00:00:00           15.6            12.9   \n",
       "\n",
       "                     UmidadeRelativa  PressaoAtmEstacao  DirecaoVento  \\\n",
       "timestamp                                                               \n",
       "2018-01-04 00:00:00               87              909.0          36.0   \n",
       "2018-01-04 12:00:00               87              910.7          27.0   \n",
       "2018-01-04 18:00:00               66              907.9          23.0   \n",
       "2018-01-05 00:00:00               56              914.4          23.0   \n",
       "2018-01-05 12:00:00               88              916.4           5.0   \n",
       "2018-01-05 18:00:00               50              916.2          27.0   \n",
       "2018-01-06 00:00:00               73              912.6          32.0   \n",
       "\n",
       "                     VelocidadeVento  Nebulosidade  \n",
       "timestamp                                           \n",
       "2018-01-04 00:00:00              0.8          10.0  \n",
       "2018-01-04 12:00:00              3.6          10.0  \n",
       "2018-01-04 18:00:00              4.5           9.0  \n",
       "2018-01-05 00:00:00              1.1           0.0  \n",
       "2018-01-05 12:00:00              1.6           9.0  \n",
       "2018-01-05 18:00:00              3.3           9.0  \n",
       "2018-01-06 00:00:00              1.0           0.0  "
      ]
     },
     "execution_count": 99,
     "metadata": {},
     "output_type": "execute_result"
    }
   ],
   "source": [
    "### Selecting data between certain dates from the dataset (ref[1])\n",
    "data['2018-01-04':'2018-01-06']"
   ]
  },
  {
   "cell_type": "code",
   "execution_count": 101,
   "metadata": {},
   "outputs": [],
   "source": [
    "## Resampling for mean, max, and min, of each day:\n",
    "dataAvg = data.resample('D').mean()\n",
    "dataMax = data.resample('D').max()\n",
    "dataMin = data.resample('D').min()"
   ]
  },
  {
   "cell_type": "code",
   "execution_count": 109,
   "metadata": {},
   "outputs": [],
   "source": [
    "sns.set()"
   ]
  },
  {
   "cell_type": "code",
   "execution_count": 110,
   "metadata": {},
   "outputs": [
    {
     "data": {
      "text/plain": [
       "<matplotlib.axes._subplots.AxesSubplot at 0x7f723f47d650>"
      ]
     },
     "execution_count": 110,
     "metadata": {},
     "output_type": "execute_result"
    },
    {
     "data": {
      "image/png": "[encoded data removed]",
      "text/plain": [
       "<Figure size 432x288 with 1 Axes>"
      ]
     },
     "metadata": {},
     "output_type": "display_data"
    }
   ],
   "source": [
    "dataAvg['TempBulboSeco'].hist()"
   ]
  },
  {
   "cell_type": "markdown",
   "metadata": {},
   "source": [
    "### Cleaning the dataAvg dataset:"
   ]
  },
  {
   "cell_type": "code",
   "execution_count": 106,
   "metadata": {},
   "outputs": [],
   "source": [
    "dataAvg = dataAvg.dropna()"
   ]
  },
  {
   "cell_type": "code",
   "execution_count": 107,
   "metadata": {},
   "outputs": [
    {
     "name": "stdout",
     "output_type": "stream",
     "text": [
      "<class 'pandas.core.frame.DataFrame'>\n",
      "DatetimeIndex: 6870 entries, 2000-01-01 to 2019-12-08\n",
      "Data columns (total 7 columns):\n",
      "TempBulboSeco        6870 non-null float64\n",
      "TempBulboUmido       6870 non-null float64\n",
      "UmidadeRelativa      6870 non-null float64\n",
      "PressaoAtmEstacao    6870 non-null float64\n",
      "DirecaoVento         6870 non-null float64\n",
      "VelocidadeVento      6870 non-null float64\n",
      "Nebulosidade         6870 non-null float64\n",
      "dtypes: float64(7)\n",
      "memory usage: 429.4 KB\n"
     ]
    }
   ],
   "source": [
    "dataAvg.info()"
   ]
  },
  {
   "cell_type": "code",
   "execution_count": 117,
   "metadata": {},
   "outputs": [
    {
     "data": {
      "image/png": "[encoded data removed]",
      "text/plain": [
       "<Figure size 864x432 with 1 Axes>"
      ]
     },
     "metadata": {},
     "output_type": "display_data"
    }
   ],
   "source": [
    "fig1, ax = plt.subplots(figsize=[12,6])  #Defines the graph window size\n",
    "fig1.subplots_adjust(top=0.92)\n",
    "plt.suptitle('Temperature distribution, in Curitiba, Brazil, from 2000 to 2020', fontsize=14, fontweight='bold')\n",
    "\n",
    "sns.distplot(dataAvg['TempBulboSeco'], label='Dry-bulb Temperature', ax=ax)\n",
    "sns.distplot(dataAvg['TempBulboUmido'], label='Wet-bulb Temperature', ax=ax)\n",
    "ax.legend(ncol=2, loc=\"upper right\", frameon=True)\n",
    "\n",
    "ax.set_xlabel('Temperature, in Celsius', fontsize=12)\n",
    "plt.show()"
   ]
  },
  {
   "cell_type": "markdown",
   "metadata": {},
   "source": [
    "For a better understanding of the data above, it is important to observe what is the wet-bulb temperature. More information can be found here: https://en.wikipedia.org/wiki/Wet-bulb_temperature."
   ]
  },
  {
   "cell_type": "markdown",
   "metadata": {},
   "source": [
    "### Resampling by year:"
   ]
  },
  {
   "cell_type": "code",
   "execution_count": 112,
   "metadata": {},
   "outputs": [],
   "source": [
    "yearAvg = data.resample('Y').mean()"
   ]
  },
  {
   "cell_type": "code",
   "execution_count": 114,
   "metadata": {},
   "outputs": [
    {
     "data": {
      "text/plain": [
       "<matplotlib.axes._subplots.AxesSubplot at 0x7f723f268910>"
      ]
     },
     "execution_count": 114,
     "metadata": {},
     "output_type": "execute_result"
    },
    {
     "data": {
      "image/png": "[encoded data removed]",
      "text/plain": [
       "<Figure size 432x288 with 1 Axes>"
      ]
     },
     "metadata": {},
     "output_type": "display_data"
    }
   ],
   "source": [
    "yearAvg['TempBulboSeco'].plot()"
   ]
  },
  {
   "cell_type": "code",
   "execution_count": null,
   "metadata": {},
   "outputs": [],
   "source": [
    "fig2, ax = plt.subplots(figsize=[12,6])  #Defines the graph window size\n",
    "fig2.subplots_adjust(top=0.92)\n",
    "plt.suptitle('Average temperature in Curitiba, Brazil, from 2000 to 2020', fontsize=14, fontweight='bold')\n",
    "\n",
    "sns.distplot(dataAvg['TempBulboSeco'], label='Dry-bulb Temperature', ax=ax)\n",
    "sns.distplot(dataAvg['TempBulboUmido'], label='Wet-bulb Temperature', ax=ax)\n",
    "ax.legend(ncol=2, loc=\"upper right\", frameon=True)\n",
    "\n",
    "ax.set_xlabel('Temperature, in Celsius', fontsize=12)\n",
    "plt.show()"
   ]
  },
  {
   "cell_type": "code",
   "execution_count": null,
   "metadata": {},
   "outputs": [],
   "source": []
  },
  {
   "cell_type": "code",
   "execution_count": null,
   "metadata": {},
   "outputs": [],
   "source": []
  }
 ],
 "metadata": {
  "kernelspec": {
   "display_name": "Python 3",
   "language": "python",
   "name": "python3"
  },
  "language_info": {
   "codemirror_mode": {
    "name": "ipython",
    "version": 3
   },
   "file_extension": ".py",
   "mimetype": "text/x-python",
   "name": "python",
   "nbconvert_exporter": "python",
   "pygments_lexer": "ipython3",
   "version": "3.7.4"
  }
 },
 "nbformat": 4,
 "nbformat_minor": 2
}
