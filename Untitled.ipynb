{
 "cells": [
  {
   "cell_type": "markdown",
   "metadata": {},
   "source": [
    "# Weather data analysis\n",
    "\n",
    "In this playground notebook I will explore some data analysis strategies through the weather data of the City of Curitiba, Brazil. \n",
    "\n",
    "## Index\n",
    "* <a href=\"#sec1\">1. Introduction</a>  \n",
    "    * <a href=\"#sec1.1\">1.1 Initial statements</a>\n",
    "    * <a href=\"#sec1.2\">1.2 Loading data</a>"
   ]
  },
  {
   "cell_type": "markdown",
   "metadata": {},
   "source": [
    "<a id='intro'></a>\n",
    "## 1. Introduction"
   ]
  },
  {
   "cell_type": "markdown",
   "metadata": {},
   "source": [
    "<a id='sec1.1'></a>\n",
    "### 1.1. Initial statements"
   ]
  },
  {
   "cell_type": "code",
   "execution_count": 3,
   "metadata": {},
   "outputs": [],
   "source": [
    "# Data analysis packages:\n",
    "import pandas as pd\n",
    "import numpy as np\n",
    "#from datetime import datetime as dt\n",
    "\n",
    "# Visualization packages:\n",
    "import seaborn as sns\n",
    "import matplotlib.pyplot as plt\n",
    "%matplotlib inline"
   ]
  },
  {
   "cell_type": "markdown",
   "metadata": {},
   "source": [
    "<a id='sec1.2'></a>\n",
    "### 1.2. Loading data"
   ]
  },
  {
   "cell_type": "code",
   "execution_count": 7,
   "metadata": {},
   "outputs": [],
   "source": [
    "data = pd.read_csv('Station_83842.csv',sep=';')"
   ]
  },
  {
   "cell_type": "code",
   "execution_count": 8,
   "metadata": {},
   "outputs": [
    {
     "data": {
      "text/html": [
       "<div>\n",
       "<style scoped>\n",
       "    .dataframe tbody tr th:only-of-type {\n",
       "        vertical-align: middle;\n",
       "    }\n",
       "\n",
       "    .dataframe tbody tr th {\n",
       "        vertical-align: top;\n",
       "    }\n",
       "\n",
       "    .dataframe thead th {\n",
       "        text-align: right;\n",
       "    }\n",
       "</style>\n",
       "<table border=\"1\" class=\"dataframe\">\n",
       "  <thead>\n",
       "    <tr style=\"text-align: right;\">\n",
       "      <th></th>\n",
       "      <th>Estacao</th>\n",
       "      <th>Data</th>\n",
       "      <th>Hora</th>\n",
       "      <th>TempBulboSeco</th>\n",
       "      <th>TempBulboUmido</th>\n",
       "      <th>UmidadeRelativa</th>\n",
       "      <th>PressaoAtmEstacao</th>\n",
       "      <th>DirecaoVento</th>\n",
       "      <th>VelocidadeVento</th>\n",
       "      <th>Nebulosidade</th>\n",
       "      <th>Unnamed: 10</th>\n",
       "    </tr>\n",
       "  </thead>\n",
       "  <tbody>\n",
       "    <tr>\n",
       "      <td>0</td>\n",
       "      <td>83842</td>\n",
       "      <td>01/01/2000</td>\n",
       "      <td>0</td>\n",
       "      <td>19.7</td>\n",
       "      <td>19.1</td>\n",
       "      <td>94</td>\n",
       "      <td>905.2</td>\n",
       "      <td>9.0</td>\n",
       "      <td>1.8</td>\n",
       "      <td>0.0</td>\n",
       "      <td>NaN</td>\n",
       "    </tr>\n",
       "    <tr>\n",
       "      <td>1</td>\n",
       "      <td>83842</td>\n",
       "      <td>01/01/2000</td>\n",
       "      <td>1200</td>\n",
       "      <td>19.0</td>\n",
       "      <td>18.3</td>\n",
       "      <td>93</td>\n",
       "      <td>906.3</td>\n",
       "      <td>9.0</td>\n",
       "      <td>2.6</td>\n",
       "      <td>10.0</td>\n",
       "      <td>NaN</td>\n",
       "    </tr>\n",
       "    <tr>\n",
       "      <td>2</td>\n",
       "      <td>83842</td>\n",
       "      <td>01/01/2000</td>\n",
       "      <td>1800</td>\n",
       "      <td>20.3</td>\n",
       "      <td>17.9</td>\n",
       "      <td>77</td>\n",
       "      <td>907.4</td>\n",
       "      <td>14.0</td>\n",
       "      <td>3.3</td>\n",
       "      <td>10.0</td>\n",
       "      <td>NaN</td>\n",
       "    </tr>\n",
       "    <tr>\n",
       "      <td>3</td>\n",
       "      <td>83842</td>\n",
       "      <td>02/01/2000</td>\n",
       "      <td>0</td>\n",
       "      <td>17.2</td>\n",
       "      <td>17.0</td>\n",
       "      <td>97</td>\n",
       "      <td>905.6</td>\n",
       "      <td>14.0</td>\n",
       "      <td>3.5</td>\n",
       "      <td>10.0</td>\n",
       "      <td>NaN</td>\n",
       "    </tr>\n",
       "    <tr>\n",
       "      <td>4</td>\n",
       "      <td>83842</td>\n",
       "      <td>02/01/2000</td>\n",
       "      <td>1200</td>\n",
       "      <td>18.8</td>\n",
       "      <td>17.6</td>\n",
       "      <td>88</td>\n",
       "      <td>907.0</td>\n",
       "      <td>9.0</td>\n",
       "      <td>3.5</td>\n",
       "      <td>8.0</td>\n",
       "      <td>NaN</td>\n",
       "    </tr>\n",
       "  </tbody>\n",
       "</table>\n",
       "</div>"
      ],
      "text/plain": [
       "   Estacao        Data  Hora  TempBulboSeco  TempBulboUmido  UmidadeRelativa  \\\n",
       "0    83842  01/01/2000     0           19.7            19.1               94   \n",
       "1    83842  01/01/2000  1200           19.0            18.3               93   \n",
       "2    83842  01/01/2000  1800           20.3            17.9               77   \n",
       "3    83842  02/01/2000     0           17.2            17.0               97   \n",
       "4    83842  02/01/2000  1200           18.8            17.6               88   \n",
       "\n",
       "   PressaoAtmEstacao  DirecaoVento  VelocidadeVento  Nebulosidade  Unnamed: 10  \n",
       "0              905.2           9.0              1.8           0.0          NaN  \n",
       "1              906.3           9.0              2.6          10.0          NaN  \n",
       "2              907.4          14.0              3.3          10.0          NaN  \n",
       "3              905.6          14.0              3.5          10.0          NaN  \n",
       "4              907.0           9.0              3.5           8.0          NaN  "
      ]
     },
     "execution_count": 8,
     "metadata": {},
     "output_type": "execute_result"
    }
   ],
   "source": [
    "data.head()"
   ]
  },
  {
   "cell_type": "code",
   "execution_count": 9,
   "metadata": {},
   "outputs": [
    {
     "data": {
      "text/plain": [
       "Index(['Estacao', 'Data', 'Hora', 'TempBulboSeco', 'TempBulboUmido',\n",
       "       'UmidadeRelativa', 'PressaoAtmEstacao', 'DirecaoVento',\n",
       "       'VelocidadeVento', 'Nebulosidade', 'Unnamed: 10'],\n",
       "      dtype='object')"
      ]
     },
     "execution_count": 9,
     "metadata": {},
     "output_type": "execute_result"
    }
   ],
   "source": [
    "data.columns"
   ]
  },
  {
   "cell_type": "code",
   "execution_count": 12,
   "metadata": {},
   "outputs": [
    {
     "data": {
      "text/plain": [
       "array([83842])"
      ]
     },
     "execution_count": 12,
     "metadata": {},
     "output_type": "execute_result"
    }
   ],
   "source": [
    "## There're data from only one station:\n",
    "data.Estacao.unique()"
   ]
  },
  {
   "cell_type": "markdown",
   "metadata": {},
   "source": [
    "The first and the last columns are useless, since data come from only one station. The last column is due to a final ';' in the end of each line."
   ]
  },
  {
   "cell_type": "code",
   "execution_count": 22,
   "metadata": {},
   "outputs": [],
   "source": [
    "newColumns = list(data.columns)[1:-1]"
   ]
  },
  {
   "cell_type": "code",
   "execution_count": 23,
   "metadata": {},
   "outputs": [],
   "source": [
    "data = data[newColumns]"
   ]
  },
  {
   "cell_type": "code",
   "execution_count": 24,
   "metadata": {},
   "outputs": [
    {
     "data": {
      "text/html": [
       "<div>\n",
       "<style scoped>\n",
       "    .dataframe tbody tr th:only-of-type {\n",
       "        vertical-align: middle;\n",
       "    }\n",
       "\n",
       "    .dataframe tbody tr th {\n",
       "        vertical-align: top;\n",
       "    }\n",
       "\n",
       "    .dataframe thead th {\n",
       "        text-align: right;\n",
       "    }\n",
       "</style>\n",
       "<table border=\"1\" class=\"dataframe\">\n",
       "  <thead>\n",
       "    <tr style=\"text-align: right;\">\n",
       "      <th></th>\n",
       "      <th>Data</th>\n",
       "      <th>Hora</th>\n",
       "      <th>TempBulboSeco</th>\n",
       "      <th>TempBulboUmido</th>\n",
       "      <th>UmidadeRelativa</th>\n",
       "      <th>PressaoAtmEstacao</th>\n",
       "      <th>DirecaoVento</th>\n",
       "      <th>VelocidadeVento</th>\n",
       "      <th>Nebulosidade</th>\n",
       "    </tr>\n",
       "  </thead>\n",
       "  <tbody>\n",
       "    <tr>\n",
       "      <td>0</td>\n",
       "      <td>01/01/2000</td>\n",
       "      <td>0</td>\n",
       "      <td>19.7</td>\n",
       "      <td>19.1</td>\n",
       "      <td>94</td>\n",
       "      <td>905.2</td>\n",
       "      <td>9.0</td>\n",
       "      <td>1.8</td>\n",
       "      <td>0.0</td>\n",
       "    </tr>\n",
       "    <tr>\n",
       "      <td>1</td>\n",
       "      <td>01/01/2000</td>\n",
       "      <td>1200</td>\n",
       "      <td>19.0</td>\n",
       "      <td>18.3</td>\n",
       "      <td>93</td>\n",
       "      <td>906.3</td>\n",
       "      <td>9.0</td>\n",
       "      <td>2.6</td>\n",
       "      <td>10.0</td>\n",
       "    </tr>\n",
       "    <tr>\n",
       "      <td>2</td>\n",
       "      <td>01/01/2000</td>\n",
       "      <td>1800</td>\n",
       "      <td>20.3</td>\n",
       "      <td>17.9</td>\n",
       "      <td>77</td>\n",
       "      <td>907.4</td>\n",
       "      <td>14.0</td>\n",
       "      <td>3.3</td>\n",
       "      <td>10.0</td>\n",
       "    </tr>\n",
       "    <tr>\n",
       "      <td>3</td>\n",
       "      <td>02/01/2000</td>\n",
       "      <td>0</td>\n",
       "      <td>17.2</td>\n",
       "      <td>17.0</td>\n",
       "      <td>97</td>\n",
       "      <td>905.6</td>\n",
       "      <td>14.0</td>\n",
       "      <td>3.5</td>\n",
       "      <td>10.0</td>\n",
       "    </tr>\n",
       "    <tr>\n",
       "      <td>4</td>\n",
       "      <td>02/01/2000</td>\n",
       "      <td>1200</td>\n",
       "      <td>18.8</td>\n",
       "      <td>17.6</td>\n",
       "      <td>88</td>\n",
       "      <td>907.0</td>\n",
       "      <td>9.0</td>\n",
       "      <td>3.5</td>\n",
       "      <td>8.0</td>\n",
       "    </tr>\n",
       "  </tbody>\n",
       "</table>\n",
       "</div>"
      ],
      "text/plain": [
       "         Data  Hora  TempBulboSeco  TempBulboUmido  UmidadeRelativa  \\\n",
       "0  01/01/2000     0           19.7            19.1               94   \n",
       "1  01/01/2000  1200           19.0            18.3               93   \n",
       "2  01/01/2000  1800           20.3            17.9               77   \n",
       "3  02/01/2000     0           17.2            17.0               97   \n",
       "4  02/01/2000  1200           18.8            17.6               88   \n",
       "\n",
       "   PressaoAtmEstacao  DirecaoVento  VelocidadeVento  Nebulosidade  \n",
       "0              905.2           9.0              1.8           0.0  \n",
       "1              906.3           9.0              2.6          10.0  \n",
       "2              907.4          14.0              3.3          10.0  \n",
       "3              905.6          14.0              3.5          10.0  \n",
       "4              907.0           9.0              3.5           8.0  "
      ]
     },
     "execution_count": 24,
     "metadata": {},
     "output_type": "execute_result"
    }
   ],
   "source": [
    "data.head()"
   ]
  },
  {
   "cell_type": "code",
   "execution_count": null,
   "metadata": {},
   "outputs": [],
   "source": []
  },
  {
   "cell_type": "code",
   "execution_count": null,
   "metadata": {},
   "outputs": [],
   "source": []
  }
 ],
 "metadata": {
  "kernelspec": {
   "display_name": "Python 3",
   "language": "python",
   "name": "python3"
  },
  "language_info": {
   "codemirror_mode": {
    "name": "ipython",
    "version": 3
   },
   "file_extension": ".py",
   "mimetype": "text/x-python",
   "name": "python",
   "nbconvert_exporter": "python",
   "pygments_lexer": "ipython3",
   "version": "3.7.4"
  }
 },
 "nbformat": 4,
 "nbformat_minor": 2
}
